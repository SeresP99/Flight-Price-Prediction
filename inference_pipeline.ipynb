{
 "cells": [
  {
   "metadata": {},
   "cell_type": "code",
   "outputs": [],
   "execution_count": null,
   "source": [
    "import pandas as pd\n",
    "from constants import NOMINAL_COLUMNS, DISCRETE_COLUMNS, CONTINUOUS_COLUMNS\n",
    "import numpy as np\n",
    "import pandas as pd\n",
    "from sklearn.model_selection import train_test_split\n",
    "from sklearn.metrics import accuracy_score\n",
    "from MLModel import MLModel\n",
    "import utils"
   ],
   "id": "c8f1917f76ad6c39"
  },
  {
   "cell_type": "code",
   "execution_count": null,
   "id": "initial_id",
   "metadata": {
    "collapsed": true
   },
   "outputs": [],
   "source": [
    "model_handler = MLModel()\n",
    "\n",
    "fill_values_nominal = model_handler.load_model('artifacts/nan_outlier_handler/fill_values_nominal.pkl')\n",
    "fill_values_discrete = model_handler.load_model('artifacts/nan_outlier_handler/fill_values_discrete.pkl')\n",
    "fill_values_continuous = model_handler.load_model('artifacts/nan_outlier_handler/fill_values_continuous.pkl')\n",
    "min_max_scaler_dict = model_handler.load_model('artifacts/encoders/min_max_scaler_dict.pkl')\n",
    "onehot_encoders = model_handler.load_model('artifacts/encoders/onehot_encoders_dict.pkl')\n",
    "model = model_handler.load_model('artifacts/models/xgb_model.pkl')"
   ]
  },
  {
   "metadata": {},
   "cell_type": "code",
   "outputs": [],
   "execution_count": null,
   "source": [
    "data_path = 'data/horse-colic-train.csv'\n",
    "df = pd.read_csv(data_path)"
   ],
   "id": "b46b13dd6d6cb4ff"
  },
  {
   "metadata": {},
   "cell_type": "code",
   "outputs": [],
   "execution_count": null,
   "source": [
    "sample_data = df.iloc[0]\n",
    "sample_data = pd.DataFrame([sample_data])"
   ],
   "id": "3aeb228a559a123"
  },
  {
   "metadata": {},
   "cell_type": "code",
   "outputs": [],
   "execution_count": null,
   "source": [
    "# sample_data.drop(columns=['Unnamed: 0'], inplace=True)\n",
    "# sample_data.drop(columns=['flight'], inplace=True)\n",
    "\n",
    "for col in CONTINUOUS_COLUMNS:  \n",
    "    sample_data[col] = pd.to_numeric(sample_data[col], errors='coerce')\n",
    "\n",
    "for col in NOMINAL_COLUMNS:\n",
    "    sample_data[col].fillna(fill_values_nominal[col], inplace=True)\n",
    "\n",
    "for col in DISCRETE_COLUMNS:\n",
    "    sample_data[col].fillna(fill_values_discrete[col], inplace=True)\n",
    "\n",
    "for col in CONTINUOUS_COLUMNS:\n",
    "    sample_data[col].fillna(fill_values_continuous[col], inplace=True)\n",
    "\n",
    "for col, encoder in onehot_encoders.items():\n",
    "    new_data = encoder.transform(sample_data[col].to_numpy().reshape(-1, 1))\n",
    "    new_df = pd.DataFrame(new_data, columns=encoder.get_feature_names_out([col]))\n",
    "    sample_data = pd.concat([sample_data, new_df], axis=1).drop(columns=[col])\n",
    "\n",
    "for col, scaler in min_max_scaler_dict.items():\n",
    "    if col in sample_data.columns:\n",
    "        sample_data[col] = scaler.transform(sample_data[[col]])\n",
    "\n",
    "if 'price' in sample_data.columns:\n",
    "    sample_data = sample_data.drop(columns=['price'])\n",
    "\n",
    "predicted_value = model.predict(sample_data)\n",
    "\n",
    "print(f\"The predicted value is: {predicted_value[0]}\")"
   ],
   "id": "70dd76d4753f6128"
  }
 ],
 "metadata": {
  "kernelspec": {
   "display_name": "Python 3",
   "language": "python",
   "name": "python3"
  },
  "language_info": {
   "codemirror_mode": {
    "name": "ipython",
    "version": 2
   },
   "file_extension": ".py",
   "mimetype": "text/x-python",
   "name": "python",
   "nbconvert_exporter": "python",
   "pygments_lexer": "ipython2",
   "version": "2.7.6"
  }
 },
 "nbformat": 4,
 "nbformat_minor": 5
}
