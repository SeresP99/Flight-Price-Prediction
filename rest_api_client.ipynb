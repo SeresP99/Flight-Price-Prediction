{
 "cells": [
  {
   "cell_type": "code",
   "metadata": {
    "ExecuteTime": {
     "end_time": "2024-06-19T14:11:19.684521Z",
     "start_time": "2024-06-19T14:11:19.487711Z"
    }
   },
   "source": [
    "import requests\n",
    "import json\n",
    "import pandas as pd\n",
    "import numpy as np\n",
    "from MLModel import MLModel\n",
    "\n",
    "url = 'http://127.0.0.1:5000/model/predict'\n",
    "\n",
    "data_path = './Original Data/Clean_Dataset.csv'\n",
    "df = pd.read_csv(data_path)\n",
    "# df.drop(columns=['Unnamed: 0', 'flight'], inplace=True)"
   ],
   "outputs": [],
   "execution_count": 123
  },
  {
   "cell_type": "code",
   "metadata": {
    "ExecuteTime": {
     "end_time": "2024-06-19T14:11:19.790263Z",
     "start_time": "2024-06-19T14:11:19.685530Z"
    }
   },
   "source": [
    "index = 5\n",
    "inference_row = df.iloc[index].apply(lambda x: x.item() if isinstance(x, np.generic) else x).tolist()\n",
    "\n",
    "print(inference_row)\n",
    "print(df.columns)\n",
    "\n",
    "data = {\n",
    "    \"inference_row\": pd.Series(inference_row).astype(str).to_list()\n",
    "}\n",
    "\n",
    "response = requests.post(url, json=data)\n",
    "\n",
    "print('Status Code:', response.status_code)\n",
    "print('Response Body:', response.text)"
   ],
   "outputs": [
    {
     "name": "stdout",
     "output_type": "stream",
     "text": [
      "[5, 'Vistara', 'UK-945', 'Delhi', 'Morning', 'zero', 'Afternoon', 'Mumbai', 'Economy', 2.33, 1, 5955]\n",
      "Index(['Unnamed: 0', 'airline', 'flight', 'source_city', 'departure_time',\n",
      "       'stops', 'arrival_time', 'destination_city', 'class', 'duration',\n",
      "       'days_left', 'price'],\n",
      "      dtype='object')\n",
      "Status Code: 200\n",
      "Response Body: {\"message\": \"Inference Successful\", \"prediction\": \"[[0.0798412]]\"}\n",
      "\n"
     ]
    }
   ],
   "execution_count": 124
  },
  {
   "cell_type": "markdown",
   "metadata": {},
   "source": []
  },
  {
   "cell_type": "code",
   "metadata": {
    "ExecuteTime": {
     "end_time": "2024-06-19T14:11:19.792505Z",
     "start_time": "2024-06-19T14:11:19.790263Z"
    }
   },
   "source": [],
   "outputs": [],
   "execution_count": 124
  },
  {
   "cell_type": "code",
   "metadata": {
    "ExecuteTime": {
     "end_time": "2024-06-19T14:11:19.794928Z",
     "start_time": "2024-06-19T14:11:19.793515Z"
    }
   },
   "source": [],
   "outputs": [],
   "execution_count": 124
  },
  {
   "cell_type": "code",
   "metadata": {
    "ExecuteTime": {
     "end_time": "2024-06-19T14:11:19.796947Z",
     "start_time": "2024-06-19T14:11:19.794928Z"
    }
   },
   "source": [],
   "outputs": [],
   "execution_count": 124
  },
  {
   "cell_type": "code",
   "metadata": {
    "ExecuteTime": {
     "end_time": "2024-06-19T14:11:19.798950Z",
     "start_time": "2024-06-19T14:11:19.796947Z"
    }
   },
   "source": [],
   "outputs": [],
   "execution_count": 124
  }
 ],
 "metadata": {
  "kernelspec": {
   "display_name": "cubix_mlops",
   "language": "python",
   "name": "python3"
  },
  "language_info": {
   "codemirror_mode": {
    "name": "ipython",
    "version": 3
   },
   "file_extension": ".py",
   "mimetype": "text/x-python",
   "name": "python",
   "nbconvert_exporter": "python",
   "pygments_lexer": "ipython3",
   "version": "3.9.18"
  },
  "orig_nbformat": 4
 },
 "nbformat": 4,
 "nbformat_minor": 2
}
