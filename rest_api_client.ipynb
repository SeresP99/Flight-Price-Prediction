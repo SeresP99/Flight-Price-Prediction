{
 "cells": [
  {
   "cell_type": "code",
   "metadata": {
    "ExecuteTime": {
     "end_time": "2024-06-19T19:34:32.261197Z",
     "start_time": "2024-06-19T19:34:27.635045Z"
    }
   },
   "source": [
    "import requests\n",
    "import json\n",
    "import pandas as pd\n",
    "import numpy as np\n",
    "from MLModel import MLModel\n",
    "\n",
    "url = 'http://127.0.0.1:5000/model/predict'\n",
    "\n",
    "data_path = './Original Data/Clean_Dataset.csv'\n",
    "df = pd.read_csv(data_path)\n",
    "# df.drop(columns=['Unnamed: 0', 'flight'], inplace=True)"
   ],
   "outputs": [],
   "execution_count": 1
  },
  {
   "cell_type": "code",
   "metadata": {
    "ExecuteTime": {
     "end_time": "2024-06-19T19:34:32.538308Z",
     "start_time": "2024-06-19T19:34:32.262204Z"
    }
   },
   "source": [
    "index = 300152\n",
    "inference_row = df.iloc[index].apply(lambda x: x.item() if isinstance(x, np.generic) else x).tolist()\n",
    "\n",
    "print(inference_row)\n",
    "print(df['price'])\n",
    "\n",
    "data = {\n",
    "    \"inference_row\": pd.Series(inference_row).astype(str).to_list()\n",
    "}\n",
    "\n",
    "response = requests.post(url, json=data)\n",
    "\n",
    "print('Status Code:', response.status_code)\n",
    "print('Response Body:', response.text)"
   ],
   "outputs": [
    {
     "name": "stdout",
     "output_type": "stream",
     "text": [
      "[300152, 'Vistara', 'UK-822', 'Chennai', 'Morning', 'one', 'Evening', 'Hyderabad', 'Business', 10.08, 49, 81585]\n",
      "0          5953\n",
      "1          5953\n",
      "2          5956\n",
      "3          5955\n",
      "4          5955\n",
      "          ...  \n",
      "300148    69265\n",
      "300149    77105\n",
      "300150    79099\n",
      "300151    81585\n",
      "300152    81585\n",
      "Name: price, Length: 300153, dtype: int64\n",
      "Status Code: 200\n",
      "Response Body: {\"message\": \"Inference Successful\", \"prediction\": \"[[59894.938]]\"}\n",
      "\n"
     ]
    }
   ],
   "execution_count": 2
  },
  {
   "cell_type": "markdown",
   "metadata": {},
   "source": []
  },
  {
   "cell_type": "code",
   "metadata": {
    "ExecuteTime": {
     "end_time": "2024-06-19T19:34:32.543628Z",
     "start_time": "2024-06-19T19:34:32.539465Z"
    }
   },
   "source": [],
   "outputs": [],
   "execution_count": 2
  },
  {
   "cell_type": "code",
   "metadata": {
    "ExecuteTime": {
     "end_time": "2024-06-19T19:34:32.548624Z",
     "start_time": "2024-06-19T19:34:32.546625Z"
    }
   },
   "source": [],
   "outputs": [],
   "execution_count": 2
  },
  {
   "cell_type": "code",
   "metadata": {
    "ExecuteTime": {
     "end_time": "2024-06-19T19:34:32.551624Z",
     "start_time": "2024-06-19T19:34:32.549623Z"
    }
   },
   "source": [],
   "outputs": [],
   "execution_count": 2
  },
  {
   "cell_type": "code",
   "metadata": {
    "ExecuteTime": {
     "end_time": "2024-06-19T19:34:32.555623Z",
     "start_time": "2024-06-19T19:34:32.552624Z"
    }
   },
   "source": [],
   "outputs": [],
   "execution_count": 2
  }
 ],
 "metadata": {
  "kernelspec": {
   "display_name": "cubix_mlops",
   "language": "python",
   "name": "python3"
  },
  "language_info": {
   "codemirror_mode": {
    "name": "ipython",
    "version": 3
   },
   "file_extension": ".py",
   "mimetype": "text/x-python",
   "name": "python",
   "nbconvert_exporter": "python",
   "pygments_lexer": "ipython3",
   "version": "3.9.18"
  },
  "orig_nbformat": 4
 },
 "nbformat": 4,
 "nbformat_minor": 2
}
