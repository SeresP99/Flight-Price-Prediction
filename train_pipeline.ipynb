{
 "cells": [
  {
   "cell_type": "code",
   "id": "6e7983e858199856",
   "metadata": {
    "collapsed": true,
    "ExecuteTime": {
     "end_time": "2024-06-18T16:10:41.886570Z",
     "start_time": "2024-06-18T16:10:38.528578Z"
    }
   },
   "source": [
    "import pandas as pd\n",
    "import numpy as np\n",
    "from scipy.stats import stats\n",
    "from constants import CONTINUOUS_COLUMNS, NOMINAL_COLUMNS, DISCRETE_COLUMNS\n",
    "pd.set_option(\"future.no_silent_downcasting\", True)\n",
    "from sklearn.preprocessing import OneHotEncoder\n",
    "from sklearn.model_selection import train_test_split\n",
    "import tensorflow as tf\n",
    "import matplotlib.pyplot as plt\n",
    "from tensorflow.keras.layers import Dense, Dropout, Input\n",
    "from tensorflow.keras.callbacks import EarlyStopping\n",
    "from tensorflow.keras.optimizers import Adam\n",
    "from encoder import manual_df_encode"
   ],
   "outputs": [],
   "execution_count": 1
  },
  {
   "metadata": {
    "ExecuteTime": {
     "end_time": "2024-06-18T16:10:42.133577Z",
     "start_time": "2024-06-18T16:10:41.887577Z"
    }
   },
   "cell_type": "code",
   "source": [
    "data_path = './Data/Clean_Dataset.csv'\n",
    "\n",
    "df = pd.read_csv(data_path)\n",
    "df.drop(columns=['Unnamed: 0'], inplace=True)\n",
    "df.drop(columns=['flight'], inplace=True)"
   ],
   "id": "initial_id",
   "outputs": [],
   "execution_count": 2
  },
  {
   "metadata": {
    "ExecuteTime": {
     "end_time": "2024-06-18T16:10:42.177832Z",
     "start_time": "2024-06-18T16:10:42.134577Z"
    }
   },
   "cell_type": "code",
   "source": "df.isna().sum()",
   "id": "89a6543d11669e7",
   "outputs": [
    {
     "data": {
      "text/plain": [
       "airline             0\n",
       "source_city         0\n",
       "departure_time      0\n",
       "stops               0\n",
       "arrival_time        0\n",
       "destination_city    0\n",
       "class               0\n",
       "duration            0\n",
       "days_left           0\n",
       "price               0\n",
       "dtype: int64"
      ]
     },
     "execution_count": 3,
     "metadata": {},
     "output_type": "execute_result"
    }
   ],
   "execution_count": 3
  },
  {
   "metadata": {
    "ExecuteTime": {
     "end_time": "2024-06-18T16:10:42.242840Z",
     "start_time": "2024-06-18T16:10:42.177832Z"
    }
   },
   "cell_type": "code",
   "source": [
    "outlier_info = {}\n",
    "zscore_info = {}\n",
    "for col in CONTINUOUS_COLUMNS:\n",
    "    # Calculate Z-score values for the column\n",
    "    df[col + '_zscore'] = stats.zscore(df[col])\n",
    "\n",
    "    # Assuming that outliers are indicated by absolute Z-scores greater than 3\n",
    "    outlier_indices = df[abs(df[col + '_zscore']) > 3].index\n",
    "\n",
    "    # Replace outliers with the median of the column\n",
    "    mean_value = df[col].mean()\n",
    "    outlier_info[col] = {'outlier_replacement': mean_value, 'outlier_indices': list(outlier_indices)}\n",
    "\n",
    "    df.loc[outlier_indices, col] = mean_value\n",
    "\n",
    "    # Drop the Z-score column as it's no longer needed\n",
    "    df.drop(columns=[col + '_zscore'], inplace=True)"
   ],
   "id": "e0ee2ee6eb37a9b7",
   "outputs": [
    {
     "name": "stderr",
     "output_type": "stream",
     "text": [
      "C:\\Users\\worge\\AppData\\Local\\Temp\\ipykernel_23432\\2507843408.py:5: DeprecationWarning: Please import `zscore` from the `scipy.stats` namespace; the `scipy.stats.stats` namespace is deprecated and will be removed in SciPy 2.0.0.\n",
      "  df[col + '_zscore'] = stats.zscore(df[col])\n",
      "C:\\Users\\worge\\AppData\\Local\\Temp\\ipykernel_23432\\2507843408.py:5: DeprecationWarning: Please import `zscore` from the `scipy.stats` namespace; the `scipy.stats.stats` namespace is deprecated and will be removed in SciPy 2.0.0.\n",
      "  df[col + '_zscore'] = stats.zscore(df[col])\n",
      "C:\\Users\\worge\\AppData\\Local\\Temp\\ipykernel_23432\\2507843408.py:14: FutureWarning: Setting an item of incompatible dtype is deprecated and will raise an error in a future version of pandas. Value '20889.660523133203' has dtype incompatible with int64, please explicitly cast to a compatible dtype first.\n",
      "  df.loc[outlier_indices, col] = mean_value\n"
     ]
    }
   ],
   "execution_count": 4
  },
  {
   "metadata": {
    "ExecuteTime": {
     "end_time": "2024-06-18T16:14:08.206844Z",
     "start_time": "2024-06-18T16:14:07.497060Z"
    }
   },
   "cell_type": "code",
   "source": [
    "onehot_encoders = {}\n",
    "new_columns = []\n",
    "\n",
    "for col in NOMINAL_COLUMNS:\n",
    "    encoder = OneHotEncoder(sparse_output=False, handle_unknown='ignore')\n",
    "\n",
    "    # print(\"Type of OH encoder: \", type(encoder))\n",
    "    new_data = encoder.fit_transform(df[col].to_numpy().reshape(-1, 1))\n",
    "\n",
    "    new_columns.extend(encoder.get_feature_names_out([col]))\n",
    "\n",
    "    new_df = pd.DataFrame(new_data, columns=encoder.get_feature_names_out([col]))\n",
    "    df = pd.concat([df, new_df], axis=1)\n",
    "\n",
    "    onehot_encoders[col] = encoder\n",
    "\n",
    "df.drop(columns=NOMINAL_COLUMNS, inplace=True)"
   ],
   "id": "809988986b63d963",
   "outputs": [],
   "execution_count": 7
  },
  {
   "metadata": {
    "ExecuteTime": {
     "end_time": "2024-06-18T16:15:49.878463Z",
     "start_time": "2024-06-18T16:14:08.206844Z"
    }
   },
   "cell_type": "code",
   "source": [
    "X = df.drop(columns=['price'])\n",
    "y = df['price']\n",
    "\n",
    "X_train, X_test, y_train, y_test = train_test_split(X, y, test_size=0.2, random_state=42)\n",
    "\n",
    "def mean_absolute_percentage_error(y_true, y_pred):\n",
    "    return tf.reduce_mean(tf.abs((y_true - y_pred) / tf.clip_by_value(tf.abs(y_true), 1e-8, tf.float32.max))) * 100\n",
    "\n",
    "\n",
    "early_stopping = EarlyStopping(patience=3, restore_best_weights=True, verbose=1)\n",
    "\n",
    "optimizer = Adam(learning_rate=0.0005)\n",
    "\n",
    "model = tf.keras.Sequential([\n",
    "    Input(shape=(X_train.shape[1],)),\n",
    "    Dense(100, activation='relu'),\n",
    "    Dense(100, activation='relu'),\n",
    "    #Dropout(0.3),\n",
    "    Dense(100, activation='relu'),\n",
    "    Dense(100, activation='relu'),\n",
    "    #mape 15 with 4 internal hierarchies\n",
    "    Dense(1, activation='linear')  # Linear activation for regression\n",
    "])\n",
    "\n",
    "model.compile(optimizer=optimizer, loss='mean_squared_error', metrics=['mse', mean_absolute_percentage_error])\n",
    "history = model.fit(X_train, y_train, epochs=100, validation_data=(X_test, y_test), verbose=1, callbacks=[early_stopping]) # , batch_size=64)\n",
    "\n",
    "\n",
    "y_pred_test = model.predict(X_test, verbose=0)\n",
    "\n",
    "y_test = y_test.values if isinstance(y_test, pd.Series) else y_test\n",
    "y_pred_test = y_pred_test.flatten()\n",
    "\n",
    "mape_test = np.mean(np.abs((y_test - y_pred_test) / y_test)) * 100\n",
    "print(\"MAPE\", mape_test)\n",
    "\n",
    "from sklearn.metrics import mean_squared_error, r2_score, mean_absolute_error\n",
    "\n",
    "mse = mean_squared_error(y_test, y_pred_test)\n",
    "mae = mean_absolute_error(y_test, y_pred_test)\n",
    "r2 = r2_score(y_test, y_pred_test)\n",
    "\n",
    "print(\"Mean Absolute Error (MAE):\", mae)\n",
    "print(\"Mean Squared Error (MSE):\", mse)\n",
    "print(\"R-squared (R2):\", r2)"
   ],
   "id": "179663804c5160ed",
   "outputs": [
    {
     "name": "stdout",
     "output_type": "stream",
     "text": [
      "Epoch 1/100\n",
      "\u001B[1m7504/7504\u001B[0m \u001B[32m━━━━━━━━━━━━━━━━━━━━\u001B[0m\u001B[37m\u001B[0m \u001B[1m6s\u001B[0m 667us/step - loss: 215863712.0000 - mean_absolute_percentage_error: 78.7915 - mse: 215863712.0000 - val_loss: 28512966.0000 - val_mean_absolute_percentage_error: 20.4348 - val_mse: 28512966.0000\n",
      "Epoch 2/100\n",
      "\u001B[1m7504/7504\u001B[0m \u001B[32m━━━━━━━━━━━━━━━━━━━━\u001B[0m\u001B[37m\u001B[0m \u001B[1m5s\u001B[0m 704us/step - loss: 27743878.0000 - mean_absolute_percentage_error: 21.4328 - mse: 27743878.0000 - val_loss: 25887454.0000 - val_mean_absolute_percentage_error: 20.0535 - val_mse: 25887454.0000\n",
      "Epoch 3/100\n",
      "\u001B[1m7504/7504\u001B[0m \u001B[32m━━━━━━━━━━━━━━━━━━━━\u001B[0m\u001B[37m\u001B[0m \u001B[1m5s\u001B[0m 667us/step - loss: 24509594.0000 - mean_absolute_percentage_error: 20.5844 - mse: 24509594.0000 - val_loss: 23961430.0000 - val_mean_absolute_percentage_error: 20.5703 - val_mse: 23961430.0000\n",
      "Epoch 4/100\n",
      "\u001B[1m7504/7504\u001B[0m \u001B[32m━━━━━━━━━━━━━━━━━━━━\u001B[0m\u001B[37m\u001B[0m \u001B[1m5s\u001B[0m 651us/step - loss: 23469360.0000 - mean_absolute_percentage_error: 19.6460 - mse: 23469360.0000 - val_loss: 23047174.0000 - val_mean_absolute_percentage_error: 19.8722 - val_mse: 23047174.0000\n",
      "Epoch 5/100\n",
      "\u001B[1m7504/7504\u001B[0m \u001B[32m━━━━━━━━━━━━━━━━━━━━\u001B[0m\u001B[37m\u001B[0m \u001B[1m5s\u001B[0m 651us/step - loss: 22508898.0000 - mean_absolute_percentage_error: 18.9635 - mse: 22508898.0000 - val_loss: 22375414.0000 - val_mean_absolute_percentage_error: 18.2873 - val_mse: 22375414.0000\n",
      "Epoch 6/100\n",
      "\u001B[1m7504/7504\u001B[0m \u001B[32m━━━━━━━━━━━━━━━━━━━━\u001B[0m\u001B[37m\u001B[0m \u001B[1m9s\u001B[0m 1ms/step - loss: 22100256.0000 - mean_absolute_percentage_error: 18.4361 - mse: 22100256.0000 - val_loss: 22842372.0000 - val_mean_absolute_percentage_error: 19.1042 - val_mse: 22842372.0000\n",
      "Epoch 7/100\n",
      "\u001B[1m7504/7504\u001B[0m \u001B[32m━━━━━━━━━━━━━━━━━━━━\u001B[0m\u001B[37m\u001B[0m \u001B[1m5s\u001B[0m 661us/step - loss: 21271940.0000 - mean_absolute_percentage_error: 17.8394 - mse: 21271940.0000 - val_loss: 21609022.0000 - val_mean_absolute_percentage_error: 19.8580 - val_mse: 21609022.0000\n",
      "Epoch 8/100\n",
      "\u001B[1m7504/7504\u001B[0m \u001B[32m━━━━━━━━━━━━━━━━━━━━\u001B[0m\u001B[37m\u001B[0m \u001B[1m5s\u001B[0m 648us/step - loss: 21327854.0000 - mean_absolute_percentage_error: 17.6662 - mse: 21327854.0000 - val_loss: 21855284.0000 - val_mean_absolute_percentage_error: 17.3482 - val_mse: 21855284.0000\n",
      "Epoch 9/100\n",
      "\u001B[1m7504/7504\u001B[0m \u001B[32m━━━━━━━━━━━━━━━━━━━━\u001B[0m\u001B[37m\u001B[0m \u001B[1m5s\u001B[0m 670us/step - loss: 20869346.0000 - mean_absolute_percentage_error: 17.3736 - mse: 20869346.0000 - val_loss: 20959734.0000 - val_mean_absolute_percentage_error: 20.5529 - val_mse: 20959734.0000\n",
      "Epoch 10/100\n",
      "\u001B[1m7504/7504\u001B[0m \u001B[32m━━━━━━━━━━━━━━━━━━━━\u001B[0m\u001B[37m\u001B[0m \u001B[1m5s\u001B[0m 672us/step - loss: 20136686.0000 - mean_absolute_percentage_error: 17.1886 - mse: 20136686.0000 - val_loss: 20550962.0000 - val_mean_absolute_percentage_error: 17.2350 - val_mse: 20550962.0000\n",
      "Epoch 11/100\n",
      "\u001B[1m7504/7504\u001B[0m \u001B[32m━━━━━━━━━━━━━━━━━━━━\u001B[0m\u001B[37m\u001B[0m \u001B[1m5s\u001B[0m 657us/step - loss: 20060952.0000 - mean_absolute_percentage_error: 17.1280 - mse: 20060952.0000 - val_loss: 20202694.0000 - val_mean_absolute_percentage_error: 15.8904 - val_mse: 20202694.0000\n",
      "Epoch 12/100\n",
      "\u001B[1m7504/7504\u001B[0m \u001B[32m━━━━━━━━━━━━━━━━━━━━\u001B[0m\u001B[37m\u001B[0m \u001B[1m5s\u001B[0m 657us/step - loss: 19477510.0000 - mean_absolute_percentage_error: 16.9209 - mse: 19477510.0000 - val_loss: 21779858.0000 - val_mean_absolute_percentage_error: 17.7589 - val_mse: 21779858.0000\n",
      "Epoch 13/100\n",
      "\u001B[1m7504/7504\u001B[0m \u001B[32m━━━━━━━━━━━━━━━━━━━━\u001B[0m\u001B[37m\u001B[0m \u001B[1m5s\u001B[0m 691us/step - loss: 19914336.0000 - mean_absolute_percentage_error: 16.9167 - mse: 19914336.0000 - val_loss: 20161206.0000 - val_mean_absolute_percentage_error: 17.4244 - val_mse: 20161206.0000\n",
      "Epoch 14/100\n",
      "\u001B[1m7504/7504\u001B[0m \u001B[32m━━━━━━━━━━━━━━━━━━━━\u001B[0m\u001B[37m\u001B[0m \u001B[1m5s\u001B[0m 661us/step - loss: 19385942.0000 - mean_absolute_percentage_error: 16.8050 - mse: 19385942.0000 - val_loss: 20206844.0000 - val_mean_absolute_percentage_error: 16.2656 - val_mse: 20206844.0000\n",
      "Epoch 15/100\n",
      "\u001B[1m7504/7504\u001B[0m \u001B[32m━━━━━━━━━━━━━━━━━━━━\u001B[0m\u001B[37m\u001B[0m \u001B[1m5s\u001B[0m 659us/step - loss: 18998198.0000 - mean_absolute_percentage_error: 16.6612 - mse: 18998198.0000 - val_loss: 19719882.0000 - val_mean_absolute_percentage_error: 16.5057 - val_mse: 19719882.0000\n",
      "Epoch 16/100\n",
      "\u001B[1m7504/7504\u001B[0m \u001B[32m━━━━━━━━━━━━━━━━━━━━\u001B[0m\u001B[37m\u001B[0m \u001B[1m5s\u001B[0m 651us/step - loss: 19015684.0000 - mean_absolute_percentage_error: 16.5745 - mse: 19015684.0000 - val_loss: 19566814.0000 - val_mean_absolute_percentage_error: 15.4459 - val_mse: 19566814.0000\n",
      "Epoch 17/100\n",
      "\u001B[1m7504/7504\u001B[0m \u001B[32m━━━━━━━━━━━━━━━━━━━━\u001B[0m\u001B[37m\u001B[0m \u001B[1m5s\u001B[0m 666us/step - loss: 19107646.0000 - mean_absolute_percentage_error: 16.4152 - mse: 19107646.0000 - val_loss: 20286658.0000 - val_mean_absolute_percentage_error: 16.7743 - val_mse: 20286658.0000\n",
      "Epoch 18/100\n",
      "\u001B[1m7504/7504\u001B[0m \u001B[32m━━━━━━━━━━━━━━━━━━━━\u001B[0m\u001B[37m\u001B[0m \u001B[1m5s\u001B[0m 656us/step - loss: 18785590.0000 - mean_absolute_percentage_error: 16.3953 - mse: 18785590.0000 - val_loss: 19785202.0000 - val_mean_absolute_percentage_error: 15.8100 - val_mse: 19785202.0000\n",
      "Epoch 19/100\n",
      "\u001B[1m7504/7504\u001B[0m \u001B[32m━━━━━━━━━━━━━━━━━━━━\u001B[0m\u001B[37m\u001B[0m \u001B[1m5s\u001B[0m 659us/step - loss: 18865354.0000 - mean_absolute_percentage_error: 16.4029 - mse: 18865354.0000 - val_loss: 19883398.0000 - val_mean_absolute_percentage_error: 16.2517 - val_mse: 19883398.0000\n",
      "Epoch 19: early stopping\n",
      "Restoring model weights from the end of the best epoch: 16.\n",
      "MAPE 15.445882678091696\n",
      "Mean Absolute Error (MAE): 2297.157126657319\n",
      "Mean Squared Error (MSE): 19566797.104668\n",
      "R-squared (R2): 0.961060786638316\n"
     ]
    }
   ],
   "execution_count": 8
  }
 ],
 "metadata": {
  "kernelspec": {
   "display_name": "Python 3",
   "language": "python",
   "name": "python3"
  },
  "language_info": {
   "codemirror_mode": {
    "name": "ipython",
    "version": 2
   },
   "file_extension": ".py",
   "mimetype": "text/x-python",
   "name": "python",
   "nbconvert_exporter": "python",
   "pygments_lexer": "ipython2",
   "version": "2.7.6"
  }
 },
 "nbformat": 4,
 "nbformat_minor": 5
}
